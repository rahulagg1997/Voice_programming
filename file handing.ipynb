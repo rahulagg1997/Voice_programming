{
 "cells": [
  {
   "cell_type": "code",
   "execution_count": 2,
   "metadata": {},
   "outputs": [],
   "source": [
    "from pynput.keyboard import Key, Controller\n",
    "import time"
   ]
  },
  {
   "cell_type": "code",
   "execution_count": 4,
   "metadata": {},
   "outputs": [],
   "source": [
    "keyboard = Controller()\n",
    "keyboard.press('a')\n",
    "keyboard.release('a')"
   ]
  },
  {
   "cell_type": "code",
   "execution_count": 36,
   "metadata": {},
   "outputs": [],
   "source": [
    "keyboard.type('this is s')"
   ]
  },
  {
   "cell_type": "code",
   "execution_count": 5,
   "metadata": {},
   "outputs": [],
   "source": [
    "time.sleep(2)\n",
    "for char in 'This is a sentence written in python':\n",
    "    keyboard.press(char)\n",
    "    keyboard.release(char)\n",
    "    time.sleep(0.12)\n",
    "keyboard.press(Key.cmd.value)\n",
    "keyboard.press('a')\n",
    "\n",
    "keyboard.release(Key.cmd.value)\n",
    "keyboard.release('a')"
   ]
  },
  {
   "cell_type": "code",
   "execution_count": null,
   "metadata": {},
   "outputs": [],
   "source": [
    "with open(test.html,'w') as file:\n",
    "    file.write('')"
   ]
  },
  {
   "cell_type": "code",
   "execution_count": 28,
   "metadata": {},
   "outputs": [],
   "source": [
    "time.sleep(2)\n",
    "with keyboard.pressed(Key.shift):\n",
    "    keyboard.press(Key.left)\n",
    "    keyboard.release(Key.left)\n",
    "    keyboard.press(Key.left)\n",
    "    keyboard.release(Key.left)\n",
    "# keyboard.press(Key.cmd.value)\n",
    "# keyboard.press('A')\n",
    "# keyboard.release('A')\n",
    "# # keyboard.release(Key.ctrl.value) #this would be for your key combination\n",
    "# keyboard.release(Key.cmd.value)\n",
    "keyboard.press(Key.down)\n",
    "keyboard.release(Key.down)"
   ]
  },
  {
   "cell_type": "code",
   "execution_count": 14,
   "metadata": {},
   "outputs": [],
   "source": [
    "time.sleep(2)\n",
    "keyboard.press(Key.ctrl.value)\n",
    "keyboard.press('a')\n",
    "\n",
    "keyboard.release(Key.ctrl.value)\n",
    "keyboard.release('a')"
   ]
  },
  {
   "cell_type": "code",
   "execution_count": 58,
   "metadata": {},
   "outputs": [],
   "source": [
    "key = keyboard_command_input()\n",
    "class keyboard_command_input():\n",
    "    def up(self):\n",
    "        keyboard.press(Key.up)\n",
    "        keyboard.release(Key.up)\n",
    "    def down(self):\n",
    "        keyboard.press(Key.down)\n",
    "        keyboard.release(Key.down)\n",
    "    def right(self):\n",
    "        keyboard.press(Key.right)\n",
    "        keyboard.release(Key.right)\n",
    "    def left(self):\n",
    "        keyboard.press(Key.left)\n",
    "        keyboard.release(Key.left)\n",
    "        \n",
    "keyboard_commanda_list ={\n",
    "        'up': key.up,\n",
    "        'down': key.down,\n",
    "        'right': key.right,\n",
    "        'left': key.left\n",
    "    }"
   ]
  },
  {
   "cell_type": "code",
   "execution_count": 59,
   "metadata": {},
   "outputs": [],
   "source": [
    "\n",
    "time.sleep(2)\n",
    "keyboard_commanda_list['up']()\n",
    "keyboard_commanda_list['left']()"
   ]
  },
  {
   "cell_type": "code",
   "execution_count": null,
   "metadata": {},
   "outputs": [],
   "source": []
  },
  {
   "cell_type": "code",
   "execution_count": null,
   "metadata": {},
   "outputs": [],
   "source": []
  },
  {
   "cell_type": "code",
   "execution_count": null,
   "metadata": {},
   "outputs": [],
   "source": []
  },
  {
   "cell_type": "code",
   "execution_count": null,
   "metadata": {},
   "outputs": [],
   "source": []
  }
 ],
 "metadata": {
  "kernelspec": {
   "display_name": "Python 3",
   "language": "python",
   "name": "python3"
  },
  "language_info": {
   "codemirror_mode": {
    "name": "ipython",
    "version": 3
   },
   "file_extension": ".py",
   "mimetype": "text/x-python",
   "name": "python",
   "nbconvert_exporter": "python",
   "pygments_lexer": "ipython3",
   "version": "3.8.3"
  }
 },
 "nbformat": 4,
 "nbformat_minor": 4
}
