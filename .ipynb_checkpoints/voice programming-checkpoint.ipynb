{
 "cells": [
  {
   "cell_type": "code",
   "execution_count": null,
   "metadata": {},
   "outputs": [],
   "source": [
    "import speech_recognition as sr\n",
    "import webbrowser as wb"
   ]
  },
  {
   "cell_type": "code",
   "execution_count": null,
   "metadata": {},
   "outputs": [],
   "source": [
    "r1 = sr.Recognizer()\n",
    "r2 = sr.Recognizer()\n",
    "r3 = sr.Recognizer()"
   ]
  },
  {
   "cell_type": "code",
   "execution_count": 3,
   "metadata": {},
   "outputs": [],
   "source": [
    "def command(input):\n",
    "        \n",
    "\n",
    "    basic_command_list ={\n",
    "        \"snap\":\"\\t\",\n",
    "        \"enter\":\"\\n\",\n",
    "    }\n",
    "    \n",
    "    if(input in basic_command_list):\n",
    "        return basic_command_list[input]\n",
    "    \n",
    "    else:\n",
    "        firstword, leftoverstring = input.split(' ', 1)\n",
    "        html_tag_list= {\n",
    "            \"paragraph\": \"\".join((\"<p>\",input.split(' ',1)[1],\"</p>\")),\n",
    "            \"heading\":\"<h2>Heading 2</h2>\",\n",
    "            \"add image\":'<img src=\"img.jpg\" alt=\"Flowers in Chania\">'\n",
    "            }\n",
    "        \n",
    "        if(firstword in html_tag_list):\n",
    "            return html_tag_list[firstword]\n",
    "        \n",
    "        else:\n",
    "            return ''"
   ]
  },
  {
   "cell_type": "code",
   "execution_count": 5,
   "metadata": {},
   "outputs": [
    {
     "ename": "ValueError",
     "evalue": "not enough values to unpack (expected 2, got 1)",
     "output_type": "error",
     "traceback": [
      "\u001b[1;31m---------------------------------------------------------------------------\u001b[0m",
      "\u001b[1;31mValueError\u001b[0m                                Traceback (most recent call last)",
      "\u001b[1;32m<ipython-input-5-a129cbf4116d>\u001b[0m in \u001b[0;36m<module>\u001b[1;34m\u001b[0m\n\u001b[0;32m      1\u001b[0m \u001b[0mcommand\u001b[0m\u001b[1;33m(\u001b[0m\u001b[1;34m'paragraph this is my voice programing code'\u001b[0m\u001b[1;33m)\u001b[0m\u001b[1;33m\u001b[0m\u001b[1;33m\u001b[0m\u001b[0m\n\u001b[1;32m----> 2\u001b[1;33m \u001b[0mcommand\u001b[0m\u001b[1;33m(\u001b[0m\u001b[1;34m'nothing'\u001b[0m\u001b[1;33m)\u001b[0m\u001b[1;33m\u001b[0m\u001b[1;33m\u001b[0m\u001b[0m\n\u001b[0m",
      "\u001b[1;32m<ipython-input-3-c1c1f090d7d1>\u001b[0m in \u001b[0;36mcommand\u001b[1;34m(input)\u001b[0m\n\u001b[0;32m     11\u001b[0m \u001b[1;33m\u001b[0m\u001b[0m\n\u001b[0;32m     12\u001b[0m     \u001b[1;32melse\u001b[0m\u001b[1;33m:\u001b[0m\u001b[1;33m\u001b[0m\u001b[1;33m\u001b[0m\u001b[0m\n\u001b[1;32m---> 13\u001b[1;33m         \u001b[0mfirstword\u001b[0m\u001b[1;33m,\u001b[0m \u001b[0mleftoverstring\u001b[0m \u001b[1;33m=\u001b[0m \u001b[0minput\u001b[0m\u001b[1;33m.\u001b[0m\u001b[0msplit\u001b[0m\u001b[1;33m(\u001b[0m\u001b[1;34m' '\u001b[0m\u001b[1;33m,\u001b[0m \u001b[1;36m1\u001b[0m\u001b[1;33m)\u001b[0m\u001b[1;33m\u001b[0m\u001b[1;33m\u001b[0m\u001b[0m\n\u001b[0m\u001b[0;32m     14\u001b[0m         html_tag_list= {\n\u001b[0;32m     15\u001b[0m             \u001b[1;34m\"paragraph\"\u001b[0m\u001b[1;33m:\u001b[0m \u001b[1;34m\"\"\u001b[0m\u001b[1;33m.\u001b[0m\u001b[0mjoin\u001b[0m\u001b[1;33m(\u001b[0m\u001b[1;33m(\u001b[0m\u001b[1;34m\"<p>\"\u001b[0m\u001b[1;33m,\u001b[0m\u001b[0minput\u001b[0m\u001b[1;33m.\u001b[0m\u001b[0msplit\u001b[0m\u001b[1;33m(\u001b[0m\u001b[1;34m' '\u001b[0m\u001b[1;33m,\u001b[0m\u001b[1;36m1\u001b[0m\u001b[1;33m)\u001b[0m\u001b[1;33m[\u001b[0m\u001b[1;36m1\u001b[0m\u001b[1;33m]\u001b[0m\u001b[1;33m,\u001b[0m\u001b[1;34m\"</p>\"\u001b[0m\u001b[1;33m)\u001b[0m\u001b[1;33m)\u001b[0m\u001b[1;33m,\u001b[0m\u001b[1;33m\u001b[0m\u001b[1;33m\u001b[0m\u001b[0m\n",
      "\u001b[1;31mValueError\u001b[0m: not enough values to unpack (expected 2, got 1)"
     ]
    }
   ],
   "source": [
    "command('paragraph this is my voice programing code')\n",
    "command('nothing')"
   ]
  },
  {
   "cell_type": "code",
   "execution_count": null,
   "metadata": {},
   "outputs": [],
   "source": [
    "output = ''\n",
    "while(True):\n",
    "    \n",
    "    with sr.Microphone() as source:\n",
    "        print('[search edureka: search youtube ]')\n",
    "        print('speak now')\n",
    "        audio = r3.listen(source)\n",
    "        \n",
    "    try:\n",
    "        text = r2.recognize_google(audio)\n",
    "        print(text)\n",
    "        if(text == 'stop'):\n",
    "            break\n",
    "        output +=  command(text)\n",
    "        with open('test.html','w') as f1:\n",
    "            f1.write(output)\n",
    "        \n",
    "    except sr.UnknownValueError:\n",
    "        print('error')\n",
    "    except sr.RequestError as e:\n",
    "        print('failed {}'.format(e))"
   ]
  },
  {
   "cell_type": "code",
   "execution_count": null,
   "metadata": {},
   "outputs": [],
   "source": [
    "with open('test.html','w') as f1:\n",
    "    f1.write(output)"
   ]
  },
  {
   "cell_type": "code",
   "execution_count": null,
   "metadata": {},
   "outputs": [],
   "source": []
  },
  {
   "cell_type": "code",
   "execution_count": null,
   "metadata": {},
   "outputs": [],
   "source": []
  },
  {
   "cell_type": "code",
   "execution_count": null,
   "metadata": {},
   "outputs": [],
   "source": [
    "from dragonfly import (Grammar, AppContext, MappingRule, Dictation,\n",
    "                       Key, Text)\n",
    "\n",
    "# Voice command rule combining spoken forms and action execution.\n",
    "class NotepadRule(MappingRule):\n",
    "    # Define the commands and the actions they execute.\n",
    "    mapping = {\n",
    "        \"save [file]\":            Key(\"c-s\"),\n",
    "        \"save [file] as\":         Key(\"a-f, a/20\"),\n",
    "        \"save [file] as <text>\":  Key(\"a-f, a/20\") + Text(\"%(text)s\"),\n",
    "        \"find <text>\":            Key(\"c-f/20\") + Text(\"%(text)s\\n\"),\n",
    "        \"paragraph\": \"<p>This is another paragraph.</p>\"\n",
    "    }\n",
    "\n",
    "    # Define the extras list of Dragonfly elements which are available\n",
    "    # to be used in mapping specs and actions.\n",
    "    extras = [\n",
    "        Dictation(\"text\")\n",
    "    ]\n",
    "\n",
    "\n",
    "# Create the grammar and the context under which it'll be active.\n",
    "context = AppContext(executable=\"notepad\")\n",
    "grammar = Grammar(\"Notepad example\", context=context)\n",
    "\n",
    "# Add the command rule to the grammar and load it.\n",
    "grammar.add_rule(NotepadRule())\n",
    "grammar.load()\n"
   ]
  },
  {
   "cell_type": "code",
   "execution_count": null,
   "metadata": {},
   "outputs": [],
   "source": []
  },
  {
   "cell_type": "code",
   "execution_count": null,
   "metadata": {},
   "outputs": [],
   "source": []
  }
 ],
 "metadata": {
  "kernelspec": {
   "display_name": "Python 3",
   "language": "python",
   "name": "python3"
  },
  "language_info": {
   "codemirror_mode": {
    "name": "ipython",
    "version": 3
   },
   "file_extension": ".py",
   "mimetype": "text/x-python",
   "name": "python",
   "nbconvert_exporter": "python",
   "pygments_lexer": "ipython3",
   "version": "3.8.3"
  }
 },
 "nbformat": 4,
 "nbformat_minor": 4
}
