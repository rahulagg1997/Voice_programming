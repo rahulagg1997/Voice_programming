{
 "cells": [
  {
   "cell_type": "code",
   "execution_count": null,
   "metadata": {},
   "outputs": [],
   "source": [
    "import speech_recognition as sr\n",
    "import webbrowser as wb\n",
    "from pynput.keyboard import Key, Controller"
   ]
  },
  {
   "cell_type": "code",
   "execution_count": null,
   "metadata": {},
   "outputs": [],
   "source": [
    "r1 = sr.Recognizer()\n",
    "r2 = sr.Recognizer()\n",
    "r3 = sr.Recognizer()"
   ]
  },
  {
   "cell_type": "code",
   "execution_count": null,
   "metadata": {},
   "outputs": [],
   "source": [
    "# def command(input):\n",
    "        \n",
    "\n",
    "#     basic_command_list ={\n",
    "#         \"snap\":\"\\t\",\n",
    "#         \"enter\":\"\\n\",\n",
    "#     }\n",
    "    \n",
    "#     if(input in basic_command_list):\n",
    "#         return basic_command_list[input]\n",
    "    \n",
    "#     else:\n",
    "#         firstword, leftoverstring = input.split(' ', 1)\n",
    "#         html_tag_list= {\n",
    "#             \"paragraph\": \"\".join((\"<p>\",input.split(' ',1)[1],\"</p>\")),\n",
    "#             \"heading\":\"<h2>Heading 2</h2>\",\n",
    "#             \"add image\":'<img src=\"img.jpg\" alt=\"Flowers in Chania\">'\n",
    "#             }\n",
    "        \n",
    "#         if(firstword in html_tag_list):\n",
    "#             return html_tag_list[firstword]\n",
    "        \n",
    "#         else:\n",
    "#             return ''"
   ]
  },
  {
   "cell_type": "code",
   "execution_count": null,
   "metadata": {},
   "outputs": [],
   "source": [
    "\n",
    "# def command(input):\n",
    "    \n",
    "#     basic_command_list ={\n",
    "#         \"snap\":\"\\t\",\n",
    "#         \"enter\":\"\\n\",\n",
    "#     }\n",
    "    \n",
    "#     keyboard_commanda_list ={\n",
    "#         'up': key.up(),\n",
    "#         'down': key.down(),\n",
    "#         'right': key.right(),\n",
    "#         'left': key.left()\n",
    "#     }\n",
    "    \n",
    "#     input_list = input.split(' ')\n",
    "    \n",
    "#     length_input_list = len(input_list)\n",
    "    \n",
    "#     if(length_input_list == 1): \n",
    "#         if(input in basic_command_list):\n",
    "#             return basic_command_list[input]\n",
    "#         else:\n",
    "#             return ''\n",
    "#     else:\n",
    "#         firstword, leftoverstring = input.split(' ', 1)\n",
    "#         html_tag_list= {\n",
    "#             \"paragraph\": \"\".join((\"<p>\",input.split(' ',1)[1],\"</p>\")),\n",
    "#             \"heading\":\"<h2>Heading 2</h2>\",\n",
    "#             \"add image\":'<img src=\"img.jpg\" alt=\"Flowers in Chania\">'\n",
    "#             }\n",
    "        \n",
    "#         if(firstword in html_tag_list):\n",
    "#             return html_tag_list[firstword]\n",
    "        \n",
    "#         else:\n",
    "#             return ''"
   ]
  },
  {
   "cell_type": "code",
   "execution_count": null,
   "metadata": {},
   "outputs": [],
   "source": [
    "\n",
    "keyboard = Controller()\n",
    "class keyboard_command_input():\n",
    "    def up(self):\n",
    "        keyboard.press(Key.up)\n",
    "        keyboard.release(Key.up)\n",
    "    def down(self):\n",
    "        keyboard.press(Key.down)\n",
    "        keyboard.release(Key.down)\n",
    "    def right(self):\n",
    "        keyboard.press(Key.right)\n",
    "        keyboard.release(Key.right)\n",
    "    def left(self):\n",
    "        keyboard.press(Key.left)\n",
    "        keyboard.release(Key.left)\n",
    "    def tab(self):\n",
    "        keyboard.press('tab')\n",
    "        keyboard.release('tab')\n",
    "    def tab(self):\n",
    "        keyboard.press('enter')\n",
    "        keyboard.release('enter')\n",
    "key = keyboard_command_input()"
   ]
  },
  {
   "cell_type": "code",
   "execution_count": null,
   "metadata": {},
   "outputs": [],
   "source": [
    "def command(input):\n",
    "    \n",
    "    basic_command_list ={\n",
    "        \"snap\":\"\\t\",\n",
    "        \"enter\":\"\\n\",\n",
    "    }\n",
    "    keyboard_command_list ={\n",
    "            'up': key.up,\n",
    "            'down': key.down,\n",
    "            'right': key.right,\n",
    "            'left': key.left\n",
    "        }\n",
    "    \n",
    "    if(input.split(' ')[0] == 'take'):\n",
    "        input  =  input.replace('take ','')\n",
    "        html_tag_list= {\n",
    "            \"paragraph\": \"\".join((\"<p>\",'Hello I am rahul',\"</p>\")),\n",
    "            \"heading\":\"<h2>Heading 2</h2>\",\n",
    "            \"image\":'<img src=\"img.jpg\" alt=\"Flowers in Chania\">'\n",
    "        }\n",
    "        if(input in html_tag_list):\n",
    "            return html_tag_list[input]\n",
    "        else:\n",
    "            return ''\n",
    "    elif(input in keyboard_command_list):\n",
    "        keyboard_command_list[input]()\n",
    "        return ''\n",
    "    else:\n",
    "        if(input in basic_command_list):\n",
    "            return basic_command_list[input]\n",
    "        else:\n",
    "            return ''\n",
    "        "
   ]
  },
  {
   "cell_type": "code",
   "execution_count": null,
   "metadata": {},
   "outputs": [],
   "source": [
    "command('paragraph this is my voice programing code')\n",
    "command('nothing')\n",
    "command('nothing is good')\n",
    "# command('tag paragraph')\n",
    "command('tag heading')\n",
    "# command('tag add image')"
   ]
  },
  {
   "cell_type": "code",
   "execution_count": null,
   "metadata": {
    "scrolled": false
   },
   "outputs": [],
   "source": [
    "output = ''\n",
    "while(True):\n",
    "    \n",
    "    with sr.Microphone() as source:\n",
    "        print('[search edureka: search youtube ]')\n",
    "        print('speak now')\n",
    "        r3.adjust_for_ambient_noise(source)\n",
    "        audio = r3.listen(source)\n",
    "        \n",
    "#     print(type(audio))\n",
    "        \n",
    "    try:\n",
    "        text = r2.recognize_google(audio)\n",
    "        print(text)\n",
    "        if(text == 'stop'):\n",
    "            break\n",
    "        output +=  command(text)\n",
    "        with open('test.html','w') as f1:\n",
    "            f1.write(output)\n",
    "        \n",
    "    except sr.UnknownValueError:\n",
    "        print('error')\n",
    "    except sr.RequestError as e:\n",
    "        print('failed {}'.format(e))"
   ]
  },
  {
   "cell_type": "code",
   "execution_count": null,
   "metadata": {},
   "outputs": [],
   "source": [
    "with open('test.html','w') as f1:\n",
    "    f1.write(output)"
   ]
  },
  {
   "cell_type": "code",
   "execution_count": null,
   "metadata": {},
   "outputs": [],
   "source": []
  },
  {
   "cell_type": "code",
   "execution_count": null,
   "metadata": {},
   "outputs": [],
   "source": []
  },
  {
   "cell_type": "code",
   "execution_count": null,
   "metadata": {},
   "outputs": [],
   "source": []
  },
  {
   "cell_type": "code",
   "execution_count": null,
   "metadata": {},
   "outputs": [],
   "source": []
  },
  {
   "cell_type": "code",
   "execution_count": null,
   "metadata": {},
   "outputs": [],
   "source": []
  }
 ],
 "metadata": {
  "kernelspec": {
   "display_name": "Python 3",
   "language": "python",
   "name": "python3"
  },
  "language_info": {
   "codemirror_mode": {
    "name": "ipython",
    "version": 3
   },
   "file_extension": ".py",
   "mimetype": "text/x-python",
   "name": "python",
   "nbconvert_exporter": "python",
   "pygments_lexer": "ipython3",
   "version": "3.8.3"
  }
 },
 "nbformat": 4,
 "nbformat_minor": 4
}
