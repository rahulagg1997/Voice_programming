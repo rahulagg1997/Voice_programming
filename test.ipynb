{
 "metadata": {
  "language_info": {
   "codemirror_mode": {
    "name": "ipython",
    "version": 3
   },
   "file_extension": ".py",
   "mimetype": "text/x-python",
   "name": "python",
   "nbconvert_exporter": "python",
   "pygments_lexer": "ipython3",
   "version": "3.8.3-final"
  },
  "orig_nbformat": 2,
  "kernelspec": {
   "name": "Python 3.8.3 64-bit ('base': conda)",
   "display_name": "Python 3.8.3 64-bit ('base': conda)",
   "metadata": {
    "interpreter": {
     "hash": "e9e21cdadf0dd68a07d876049c3c43817634a4ac552722dcbb1337da01605357"
    }
   }
  }
 },
 "nbformat": 4,
 "nbformat_minor": 2,
 "cells": [
  {
   "cell_type": "code",
   "execution_count": 1,
   "metadata": {},
   "outputs": [],
   "source": [
    "import speech_recognition as sr\n",
    "import webbrowser as wb"
   ]
  },
  {
   "cell_type": "code",
   "execution_count": 2,
   "metadata": {},
   "outputs": [],
   "source": [
    "r1 = sr.Recognizer()\n",
    "r2 = sr.Recognizer()\n",
    "r3 = sr.Recognizer()"
   ]
  },
  {
   "cell_type": "code",
   "execution_count": 3,
   "metadata": {
    "tags": []
   },
   "outputs": [
    {
     "output_type": "stream",
     "name": "stdout",
     "text": "[search edureka: search youtube ]\nspeak now\n"
    }
   ],
   "source": [
    "with sr.Microphone() as source:\n",
    "    print('[search edureka: search youtube ]')\n",
    "    print('speak now')\n",
    "    r3.adjust_for_ambient_noise(source, duration = 0.5)\n",
    "    print('dafasdfas')\n",
    "    audio = r3.listen(source, timeout=0, phrase_time_limit=2)\n",
    "print(audio)\n",
    "try:\n",
    "    text = r2.recognize_google(audio)\n",
    "    print(text)\n",
    "except Exception as e:\n",
    "    print(e)"
   ]
  },
  {
   "cell_type": "code",
   "execution_count": 3,
   "metadata": {},
   "outputs": [],
   "source": [
    "harvard = sr.AudioFile('harvard.wav')\n",
    "with harvard as source:\n",
    "    audio = r1.record(source)"
   ]
  },
  {
   "cell_type": "code",
   "execution_count": 4,
   "metadata": {},
   "outputs": [],
   "source": [
    "text = r1.recognize_google(audio)"
   ]
  },
  {
   "cell_type": "code",
   "execution_count": 5,
   "metadata": {
    "tags": []
   },
   "outputs": [
    {
     "output_type": "stream",
     "name": "stdout",
     "text": "the Birch canoes forward on the smooth planks glue the sea to the dark blue background it is easy to tell the death of a well do you say the chicken mega they weren&#39;t this rice is often served in round balls did use of LeMons mix find punch the box of stone beside the park truck the hugs are search up corn and garbage 4 hours of steady work-based a large size and stockings and hard to sell\n"
    }
   ],
   "source": [
    "print(text)"
   ]
  },
  {
   "cell_type": "code",
   "execution_count": null,
   "metadata": {},
   "outputs": [],
   "source": []
  }
 ]
}