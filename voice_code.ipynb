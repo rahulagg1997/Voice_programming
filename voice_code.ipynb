{
 "cells": [
  {
   "cell_type": "code",
   "execution_count": 7,
   "metadata": {},
   "outputs": [],
   "source": [
    "import speech_recognition as sr\n",
    "from pynput.keyboard import Key, Controller\n",
    "import time"
   ]
  },
  {
   "cell_type": "code",
   "execution_count": 8,
   "metadata": {},
   "outputs": [],
   "source": [
    "r1 = sr.Recognizer()\n",
    "r2 = sr.Recognizer()\n",
    "r3 = sr.Recognizer()"
   ]
  },
  {
   "cell_type": "code",
   "execution_count": 9,
   "metadata": {},
   "outputs": [],
   "source": [
    "keyboard = Controller()"
   ]
  },
  {
   "cell_type": "code",
   "execution_count": 10,
   "metadata": {},
   "outputs": [],
   "source": [
    "class keyboard_command_input():\n",
    "    def up(self):\n",
    "        keyboard.press(Key.up)\n",
    "        keyboard.release(Key.up)\n",
    "    def down(self):\n",
    "        keyboard.press(Key.down)\n",
    "        keyboard.release(Key.down)\n",
    "    def right(self):\n",
    "        keyboard.press(Key.right)\n",
    "        keyboard.release(Key.right)\n",
    "    def left(self):\n",
    "        keyboard.press(Key.left)\n",
    "        keyboard.release(Key.left)\n",
    "    def tab(self):\n",
    "        keyboard.press(Key.tab)\n",
    "        keyboard.release(Key.tab)\n",
    "    def enter(self):\n",
    "        keyboard.press(Key.enter)\n",
    "        keyboard.release(Key.enter)\n",
    "    def select(self):\n",
    "        with keyboard.pressed(Key.shift):\n",
    "            keyboard.press(Key.left)\n",
    "            keyboard.release(Key.left)\n",
    "            keyboard.press(Key.left)\n",
    "            keyboard.release(Key.left)\n",
    "    def backspace(self):\n",
    "        keyboard.press(Key.backspace)\n",
    "        keyboard.release(Key.backspace)\n",
    "    def print_text(self, string):\n",
    "        for char in string:\n",
    "            keyboard.press(char)\n",
    "            keyboard.release(char)\n",
    "key = keyboard_command_input()"
   ]
  },
  {
   "cell_type": "code",
   "execution_count": 11,
   "metadata": {},
   "outputs": [],
   "source": [
    "def command(data):\n",
    "    command_list = {\n",
    "         'snap': key.tab,\n",
    "         'enter':key.enter,\n",
    "         'up': key.up,\n",
    "         'down': key.down,\n",
    "         'right': key.right,\n",
    "         'left': key.left,\n",
    "         'backspace': key.backspace,\n",
    "         'select': key.select\n",
    "     }\n",
    "    html_tag_list = {\n",
    "        'paragraph':(key.print_text, '<p>Hello I am Rahul agarwal</p>'),\n",
    "         'image':(key.print_text, '<img src=\"img.jpg\" alt=\"Flowers in Chania\">'),\n",
    "         'heading':(key.print_text, '<h2>Heading 2</h2>'),\n",
    "    }\n",
    "    if(data in command_list):\n",
    "        command_list[data]()\n",
    "    elif(data in html_tag_list):\n",
    "        output = html_tag_list[data]\n",
    "        output[0](output[1])\n",
    "    else:\n",
    "        key.print_text(data)\n",
    "        "
   ]
  },
  {
   "cell_type": "code",
   "execution_count": 12,
   "metadata": {
    "scrolled": false
   },
   "outputs": [
    {
     "name": "stdout",
     "output_type": "stream",
     "text": [
      "speak now\n",
      "right now I'll do this hardcoded backspace\n",
      "speak now\n",
      "error\n",
      "speak now\n",
      "error\n",
      "speak now\n",
      "backspace\n",
      "speak now\n",
      "hello this is my first Voice programming project\n",
      "speak now\n",
      "stop\n"
     ]
    }
   ],
   "source": [
    "output = ''\n",
    "while(True):\n",
    "    \n",
    "    with sr.Microphone() as source:\n",
    "        print('speak now')\n",
    "        r3.adjust_for_ambient_noise(source)\n",
    "        audio = r3.listen(source)\n",
    "        \n",
    "#     print(type(audio))\n",
    "        \n",
    "    try:\n",
    "        text = r2.recognize_google(audio)\n",
    "        print(text)\n",
    "        if(text == 'stop'):\n",
    "            break\n",
    "        command(text)\n",
    "        \n",
    "    except sr.UnknownValueError:\n",
    "        print('error')\n",
    "    except sr.RequestError as e:\n",
    "        print('failed {}'.format(e))"
   ]
  },
  {
   "cell_type": "code",
   "execution_count": null,
   "metadata": {},
   "outputs": [],
   "source": []
  }
 ],
 "metadata": {
  "kernelspec": {
   "display_name": "Python 3",
   "language": "python",
   "name": "python3"
  },
  "language_info": {
   "codemirror_mode": {
    "name": "ipython",
    "version": 3
   },
   "file_extension": ".py",
   "mimetype": "text/x-python",
   "name": "python",
   "nbconvert_exporter": "python",
   "pygments_lexer": "ipython3",
   "version": "3.8.3"
  }
 },
 "nbformat": 4,
 "nbformat_minor": 4
}
